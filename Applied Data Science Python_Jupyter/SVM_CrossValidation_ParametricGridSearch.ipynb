{
 "cells": [
  {
   "cell_type": "markdown",
   "metadata": {},
   "source": [
    "# SVM, Cross Validation and Grid Search"
   ]
  },
  {
   "cell_type": "code",
   "execution_count": 16,
   "metadata": {},
   "outputs": [],
   "source": [
    "import numpy as np\n",
    "import scipy.sparse as sp\n",
    "from collections import Counter\n",
    "import scipy.optimize\n",
    "import pickle\n",
    "import timeit"
   ]
  },
  {
   "cell_type": "code",
   "execution_count": 17,
   "metadata": {},
   "outputs": [],
   "source": [
    "with open(\"X1.txt\") as f:\n",
    "    emails = f.readlines()\n",
    "labels = np.loadtxt(\"y1.txt\")"
   ]
  },
  {
   "cell_type": "code",
   "execution_count": 18,
   "metadata": {},
   "outputs": [],
   "source": [
    "def tfidf(docs):\n",
    "    all_words = set([a for a in \" \".join(docs).split(\" \") if a != \"\"])\n",
    "    all_words_dict = {k:i for i,k in enumerate(all_words)}\n",
    "    \n",
    "    word_counts = [Counter([a for a in d.split(\" \") if a!=\"\"]) for d in docs]\n",
    "    data = [a for wc in word_counts for a in wc.values()]\n",
    "    rows = [i for i,wc in enumerate(word_counts) for a in wc.values()]\n",
    "    cols = [all_words_dict[k] for wc in word_counts for k in wc.keys()]\n",
    "    X = sp.coo_matrix((data, (rows,cols)), (len(docs), len(all_words)))\n",
    "    \n",
    "    idf = np.log(float(len(docs))/np.asarray((X>0).sum(axis=0))[0])\n",
    "    \n",
    "    return X*sp.diags(idf), list(all_words)\n",
    "\n",
    "features, all_words = tfidf(emails)\n"
   ]
  },
  {
   "cell_type": "markdown",
   "metadata": {},
   "source": [
    "## SVM classification"
   ]
  },
  {
   "cell_type": "code",
   "execution_count": 70,
   "metadata": {
    "scrolled": false
   },
   "outputs": [],
   "source": [
    "class SVM:\n",
    "    def __init__(self, X, y, reg):\n",
    "        \"\"\" Initialize the SVM attributes and initialize the weights vector to the zero vector. \n",
    "            Attributes: \n",
    "                X (array_like) : training data intputs\n",
    "                y (vector) : 1D numpy array of training data outputs\n",
    "                reg (float) : regularizer parameter\n",
    "                theta : 1D numpy array of weights\n",
    "        \"\"\"\n",
    "        self.X = X\n",
    "        self.y = y\n",
    "        self.reg = reg\n",
    "        self.theta = np.zeros(X.shape[1])\n",
    "    \n",
    "    def objective(self, X, y):\n",
    "        \"\"\" Calculate the objective value of the SVM. When given the training data (self.X, self.y), this is the \n",
    "            actual objective being optimized. \n",
    "            Args:\n",
    "                X (array_like) : array of examples, where each row is an example\n",
    "                y (array_like) : array of outputs for the training examples\n",
    "            Output:\n",
    "                (float) : objective value of the SVM when calculated on X,y\n",
    "        \"\"\"\n",
    "        y_hat = sp.diags(y).dot(X).dot(self.theta)\n",
    "        return(np.sum(np.maximum( 1 - y_hat , 0 )) + (self.reg/2 * sum(self.theta*self.theta) ) )\n",
    "        \n",
    "    \n",
    "    def gradient(self):\n",
    "        \"\"\" Calculate the gradient of the objective value on the training examples. \n",
    "            Output:\n",
    "                (vector) : 1D numpy array containing the gradient\n",
    "        \"\"\"\n",
    "        YX = sp.diags(self.y).dot(self.X)\n",
    "        return (-YX.T.dot( YX.dot(self.theta) <= 1 ) + self.reg * self.theta)\n",
    "    \n",
    "    def train(self, niters=100, learning_rate=1, verbose=False):\n",
    "        \"\"\" Train the support vector machine with the given parameters. \n",
    "            Args: \n",
    "                niters (int) : the number of iterations of gradient descent to run\n",
    "                learning_rate (float) : the learning rate (or step size) to use when training\n",
    "                verbose (bool) : an optional parameter that you can use to print useful information (like objective value)\n",
    "        \"\"\"\n",
    "        \n",
    "        for i in range(niters):\n",
    "            self.theta -= (learning_rate * self.gradient())\n",
    "            if verbose:\n",
    "                print(self.objective(self.X, self.y))\n",
    "            \n",
    "    \n",
    "    def predict(self, X):\n",
    "        \"\"\" Predict the class of each label in X. \n",
    "            Args: \n",
    "                X (array_like) : array of examples, where each row is an example\n",
    "            Output:\n",
    "                (vector) : 1D numpy array containing predicted labels\n",
    "        \"\"\"\n",
    "        pred = np.zeros(X.shape[0])\n",
    "        result = X.dot(self.theta)\n",
    "        for i,yi in enumerate(result):\n",
    "            pred[i] = (1 if yi > 0 else -1)\n",
    "        return pred\n",
    "        \n",
    "        pass\n",
    "    \n"
   ]
  },
  {
   "cell_type": "code",
   "execution_count": 71,
   "metadata": {
    "scrolled": true
   },
   "outputs": [
    {
     "name": "stdout",
     "output_type": "stream",
     "text": [
      "[ 1 -1 -1 -1 -1]\n",
      "23 ms ± 2.91 ms per loop (mean ± std. dev. of 7 runs, 10 loops each)\n"
     ]
    },
    {
     "data": {
      "text/plain": [
       "array([ 1., -1., -1., -1., -1.])"
      ]
     },
     "execution_count": 71,
     "metadata": {},
     "output_type": "execute_result"
    }
   ],
   "source": [
    "# Verify the correctness of your code on small examples\n",
    "y0 = np.random.randint(0,2,5)*2-1\n",
    "print(y0)\n",
    "X0 = np.random.random((5,10))\n",
    "t0 = np.random.random(10)\n",
    "svm0 = SVM(X0,y0, 1e-4)\n",
    "svm0.theta = t0\n",
    "\n",
    "def obj(theta):\n",
    "    return svm0.objective(X0,y0)\n",
    "    pass\n",
    "obj(t0)\n",
    "def grad(theta):\n",
    "    return svm0.gradient()\n",
    "    pass\n",
    "# scipy.optimize.check_grad(obj, grad, t0)\n",
    "\n",
    "%timeit svm0.train(niters=100, learning_rate=1, verbose=False)\n",
    "svm0.predict(X0)\n"
   ]
  },
  {
   "cell_type": "code",
   "execution_count": 59,
   "metadata": {
    "scrolled": false
   },
   "outputs": [
    {
     "name": "stdout",
     "output_type": "stream",
     "text": [
      "6.11 s ± 0 ns per loop (mean ± std. dev. of 1 run, 1 loop each)\n",
      "[ 1.  1.  1. ..., -1. -1. -1.]\n",
      "[ 1.  1.  1. ..., -1. -1. -1.]\n",
      "0.0\n",
      "[ 1.  1.  1. ..., -1. -1. -1.]\n"
     ]
    }
   ],
   "source": [
    "\n",
    "svm = SVM(features, labels, 1e-4)\n",
    "%timeit -n 1 -r 1 svm.train(niters = 100, learning_rate = 1)\n",
    "yp = svm.predict(features)\n",
    "print(yp)\n",
    "print(labels)\n",
    "print(np.mean(labels != yp))\n",
    "\n",
    "print(labels)\n"
   ]
  },
  {
   "cell_type": "markdown",
   "metadata": {},
   "source": [
    "## Model Selection: Cross validation and Parameter Grid Search"
   ]
  },
  {
   "cell_type": "code",
   "execution_count": 54,
   "metadata": {},
   "outputs": [],
   "source": [
    "import math as mt\n",
    "\n",
    "class ModelSelector:\n",
    "    \"\"\" A class that performs model selection. \n",
    "        Attributes:\n",
    "            blocks (list) : list of lists of indices of each block used for k-fold cross validation, e.g. blocks[i] \n",
    "            gives the indices of the examples in the ith block \n",
    "            test_block (list) : list of indices of the test block that used only for reporting results\n",
    "            \n",
    "    \"\"\"\n",
    "    def __init__(self, X, y, P, k, niters):\n",
    "        \"\"\" Initialize the model selection with data and split into train/valid/test sets. Split the permutation into blocks \n",
    "            and save the block indices as an attribute to the model. \n",
    "            Args:\n",
    "                X (array_like) : array of features for the datapoints\n",
    "                y (vector) : 1D numpy array containing the output labels for the datapoints\n",
    "                P (vector) : 1D numpy array containing a random permutation of the datapoints\n",
    "                k (int) : number of folds\n",
    "                niters (int) : number of iterations to train for\n",
    "        \"\"\"\n",
    "        \n",
    "        self.X = X\n",
    "        self.y = y\n",
    "        self.P = P\n",
    "        self.k = k\n",
    "        self.niters = niters\n",
    "        \n",
    "        blocks_ = np.array_split(P, self.k+1)\n",
    "        \n",
    "        self.blocks = blocks_[:-1]\n",
    "        self.test_block = blocks_[-1]\n",
    "\n",
    "        self.train_indices = np.hstack(self.blocks)\n",
    "        self.test_indices = self.test_block\n",
    "\n",
    "\n",
    "    def cross_validation(self, lr, reg):\n",
    "        \"\"\" Given the permutation P in the class, evaluate the SVM using k-fold cross validation for the given parameters \n",
    "            over the permutation\n",
    "            Args: \n",
    "                lr (float) : learning rate\n",
    "                reg (float) : regularizer parameter\n",
    "            Output: \n",
    "                (float) : the cross validated error rate\n",
    "        \"\"\"\n",
    "        pred_err = np.zeros(len(self.blocks))\n",
    "        for i,v_block in enumerate(self.blocks):\n",
    "            t_block = np.ones(self.X.shape[0], bool)\n",
    "            t_block[v_block,] = False\n",
    "            t_block[self.test_indices,] = False\n",
    "\n",
    "            train_set = self.X[t_block,:]\n",
    "            train_label = self.y[t_block,]\n",
    "\n",
    "            valid_set = self.X[v_block,:]\n",
    "            valid_label = self.y[v_block,]\n",
    "            \n",
    "            svm_cv = SVM(train_set, train_label, reg)\n",
    "            svm_cv.train(niters = self.niters, learning_rate = lr)\n",
    "            \n",
    "            v_pred = svm_cv.predict(valid_set)\n",
    "            pred_err[i] = np.mean(v_pred != valid_label)\n",
    "        \n",
    "        return np.mean(pred_err)\n",
    "        \n",
    "        pass\n",
    "    \n",
    "    def grid_search(self, lrs, regs):\n",
    "        \"\"\" Given two lists of parameters for learning rate and regularization parameter, perform a grid search using\n",
    "            k-wise cross validation to select the best parameters. \n",
    "            Args:  \n",
    "                lrs (list) : list of potential learning rates\n",
    "                regs (list) : list of potential regularizers\n",
    "            Output: \n",
    "                (lr, reg) : 2-tuple of the best found parameters\n",
    "        \"\"\"\n",
    "        cv_err = 1.0\n",
    "        result = (0.0,0.0)\n",
    "        for i,lr in enumerate(lrs):\n",
    "            for j,rg in enumerate(regs):\n",
    "                thisCV_err = self.cross_validation(lr,rg)\n",
    "                if(thisCV_err < cv_err):\n",
    "                    result = (lr,rg)\n",
    "                    cv_err = thisCV_err\n",
    "        \n",
    "        return(result)\n",
    "        pass\n",
    "    \n",
    "    def test(self, lr, reg):\n",
    "        \"\"\" Given parameters, calculate the error rate of the test data given the rest of the data. \n",
    "            Args: \n",
    "                lr (float) : learning rate\n",
    "                reg (float) : regularizer parameter\n",
    "            Output: \n",
    "                (err, svm) : tuple of the error rate of the SVM on the test data and the learned model\n",
    "        \"\"\"\n",
    "        \n",
    "        svm = SVM(self.X[self.train_indices,:], self.y[self.train_indices,], reg)\n",
    "        svm.train(niters = self.niters, learning_rate = lr)\n",
    "        \n",
    "        test = self.X[self.test_indices,:]\n",
    "        test_label = self.y[self.test_indices,]\n",
    "        \n",
    "        pred = svm.predict(test)\n",
    "        err = np.mean(pred != test_label)\n",
    "        return (err, svm)\n",
    "        \n",
    "        pass\n",
    "    "
   ]
  },
  {
   "cell_type": "markdown",
   "metadata": {},
   "source": [
    "## K-fold cross validation"
   ]
  },
  {
   "cell_type": "code",
   "execution_count": 55,
   "metadata": {},
   "outputs": [
    {
     "name": "stdout",
     "output_type": "stream",
     "text": [
      "[ 1 -1  1  1 -1]\n"
     ]
    },
    {
     "data": {
      "text/plain": [
       "0.33333333333333331"
      ]
     },
     "execution_count": 55,
     "metadata": {},
     "output_type": "execute_result"
    }
   ],
   "source": [
    "\n",
    "# print(np.arange(X0.shape[0]))\n",
    "print(y0)\n",
    "MS0 = ModelSelector(X0, y0, np.random.permutation(X0.shape[0]), 3, 100)\n",
    "MS0.cross_validation(0.1, 1e-4)\n"
   ]
  },
  {
   "cell_type": "code",
   "execution_count": 51,
   "metadata": {
    "scrolled": false
   },
   "outputs": [
    {
     "name": "stdout",
     "output_type": "stream",
     "text": [
      "0.0105351318692\n",
      "0.00044501054284\n"
     ]
    }
   ],
   "source": [
    "\n",
    "# arr = np.random.permutation(features.shape[0])\n",
    "mean = np.zeros(10)\n",
    "for i in range(10):\n",
    "    MS0 = ModelSelector(features, labels, np.random.permutation(features.shape[0]), 5, 100)\n",
    "    mean[i] = MS0.cross_validation(1, 1e-4)\n",
    "\n",
    "print(np.mean(mean))\n",
    "print(np.std(mean))\n"
   ]
  },
  {
   "cell_type": "markdown",
   "metadata": {},
   "source": [
    "## Grid search"
   ]
  },
  {
   "cell_type": "code",
   "execution_count": 56,
   "metadata": {},
   "outputs": [
    {
     "name": "stdout",
     "output_type": "stream",
     "text": [
      "2min 43s ± 0 ns per loop (mean ± std. dev. of 1 run, 1 loop each)\n"
     ]
    }
   ],
   "source": [
    "\n",
    "MS = ModelSelector(features, labels, np.arange(features.shape[0]), 4, 100)\n",
    "%timeit -n 1 -r 1 lr, reg = MS.grid_search(np.logspace(-1,1,3), np.logspace(-2,1,4))\n",
    "print(lr, reg)\n",
    "print(MS.test(lr,reg))\n"
   ]
  }
 ],
 "metadata": {
  "kernelspec": {
   "display_name": "Python 3",
   "language": "python",
   "name": "python3"
  },
  "language_info": {
   "codemirror_mode": {
    "name": "ipython",
    "version": 3
   },
   "file_extension": ".py",
   "mimetype": "text/x-python",
   "name": "python",
   "nbconvert_exporter": "python",
   "pygments_lexer": "ipython3",
   "version": "3.6.3"
  }
 },
 "nbformat": 4,
 "nbformat_minor": 1
}
