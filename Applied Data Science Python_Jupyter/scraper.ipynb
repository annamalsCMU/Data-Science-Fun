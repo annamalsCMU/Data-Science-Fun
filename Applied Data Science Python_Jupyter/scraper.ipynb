{
 "cells": [
  {
   "cell_type": "code",
   "execution_count": 1,
   "metadata": {},
   "outputs": [],
   "source": [
    "# setup library imports\n",
    "import io, time, json, re\n",
    "import requests, datetime\n",
    "from bs4 import BeautifulSoup"
   ]
  },
  {
   "cell_type": "markdown",
   "metadata": {},
   "source": [
    "## Basic HTTP Requests\n",
    "\n"
   ]
  },
  {
   "cell_type": "code",
   "execution_count": 2,
   "metadata": {},
   "outputs": [],
   "source": [
    "def retrieve_html(url):\n",
    "    \"\"\"\n",
    "    Return the raw HTML at the specified URL.\n",
    "\n",
    "    Args:\n",
    "        url (string): \n",
    "\n",
    "    Returns:\n",
    "        status_code (integer):\n",
    "        raw_html (string): the raw HTML content of the response, properly encoded according to the HTTP headers.\n",
    "    \"\"\"\n",
    "    \n",
    "    response = requests.get(url)\n",
    "    response_tuple = response.status_code, response.content\n",
    "    return response_tuple\n",
    "    pass\n",
    "\n"
   ]
  },
  {
   "cell_type": "markdown",
   "metadata": {},
   "source": [
    "## Authenticated HTTP Request with the Yelp API\n"
   ]
  },
  {
   "cell_type": "code",
   "execution_count": 4,
   "metadata": {},
   "outputs": [],
   "source": [
    "def read_api_key(filepath):\n",
    "    \"\"\"\n",
    "    Read the Yelp API Key from file.\n",
    "    \n",
    "    Args:\n",
    "        filepath (string): File containing API Key\n",
    "    Returns:\n",
    "        api_key (string): The API Key\n",
    "    \"\"\"\n",
    "    with open('api_key.txt', 'r') as f:\n",
    "        return f.read().strip()\n",
    "    \n"
   ]
  },
  {
   "cell_type": "code",
   "execution_count": 5,
   "metadata": {},
   "outputs": [],
   "source": [
    "def yelp_search(api_key, query):\n",
    "    \"\"\"\n",
    "    Make an authenticated request to the Yelp API.\n",
    "\n",
    "    Args:\n",
    "        query (string): Search term\n",
    "\n",
    "    Returns:\n",
    "        total (integer): total number of businesses on Yelp corresponding to the query\n",
    "        businesses (list): list of dicts representing each business\n",
    "    \"\"\"\n",
    "    END_POINT = \"https://api.yelp.com/v3/businesses/search\"\n",
    "    head = {'Authorization': 'Bearer %s'%api_key}\n",
    "    parameters = {'location': query }\n",
    "    \n",
    "    response = requests.get(END_POINT, headers = head, params = parameters)\n",
    "    total = 0\n",
    "    business_list = []\n",
    "    if(response.status_code == 200):\n",
    "        resp_json_obj = json.loads(response.content.decode(\"utf-8\"))\n",
    "        total = resp_json_obj['total']\n",
    "        busi_list = resp_json_obj['businesses']\n",
    "    return total, busi_list\n",
    "    pass\n"
   ]
  },
  {
   "cell_type": "markdown",
   "metadata": {},
   "source": [
    "## Parameterization and Pagination\n"
   ]
  },
  {
   "cell_type": "markdown",
   "metadata": {},
   "source": [
    "## Aquire all of the restaurants in Pittsburgh (on Yelp)\n"
   ]
  },
  {
   "cell_type": "code",
   "execution_count": 7,
   "metadata": {},
   "outputs": [],
   "source": [
    "def all_restaurants(api_key, query):\n",
    "    \"\"\"\n",
    "    Retrieve ALL the restaurants on Yelp for a given query.\n",
    "\n",
    "    Args:\n",
    "        query (string): Search term\n",
    "\n",
    "    Returns:\n",
    "        results (list): list of dicts representing each business\n",
    "    \"\"\"\n",
    "    \n",
    "    END_POINT = \"https://api.yelp.com/v3/businesses/search\"\n",
    "    head = {'Authorization': 'Bearer %s'%api_key}\n",
    "    url_params = {'location': query, 'limit': 20, 'categories': 'restaurants'}\n",
    "    \n",
    "    response = requests.get(END_POINT, headers = head, params = url_params)\n",
    "    total = 0\n",
    "    if(response.status_code == 200):\n",
    "        resp_json_obj = json.loads(response.content.decode(\"utf-8\"))\n",
    "        total = resp_json_obj['total']\n",
    "    \n",
    "    final_busi_list = []\n",
    "    thisOffset = 0\n",
    "    while(thisOffset < total):\n",
    "        url_params['offset'] = thisOffset\n",
    "        response = requests.get(END_POINT, headers = head, params = url_params)\n",
    "        if response.status_code == 200:\n",
    "            resp_json_obj = json.loads(response.content.decode(\"utf-8\"))\n",
    "            final_busi_list.extend(resp_json_obj['businesses'])\n",
    "        time.sleep(.300)\n",
    "        thisOffset = thisOffset + 20\n",
    "    return final_busi_list\n",
    "    pass\n"
   ]
  },
  {
   "cell_type": "markdown",
   "metadata": {},
   "source": [
    "## Parse the API Responses and Extract the URLs\n"
   ]
  },
  {
   "cell_type": "code",
   "execution_count": 9,
   "metadata": {},
   "outputs": [],
   "source": [
    "def parse_api_response(data):\n",
    "    \"\"\"\n",
    "    Parse Yelp API results to extract restaurant URLs.\n",
    "    \n",
    "    Args:\n",
    "        data (string): String of properly formatted JSON.\n",
    "\n",
    "    Returns:\n",
    "        (list): list of URLs as strings from the input JSON.\n",
    "    \"\"\"\n",
    "    if data:\n",
    "        json_obj = json.loads(data)\n",
    "        list_urls = list(map(lambda thisB: thisB['url'], json_obj['businesses']))\n",
    "        return list_urls\n",
    "    else:\n",
    "        return []\n",
    "        \n",
    "    pass\n"
   ]
  },
  {
   "cell_type": "markdown",
   "metadata": {},
   "source": [
    "## Parse a Yelp restaurant Page\n",
    "\n",
    "Using `BeautifulSoup`, parse the HTML of a single Yelp restaurant page to extract the reviews in a structured form as well as the URL to the next page of reviews (or `None` if it is the last page).\n",
    "* the reviews as a structured Python dictionary\n",
    "* the HTML element containing the link/url for the next page of reviews (or None).\n",
    "\n",
    "```python\n",
    "{\n",
    "    'review_id': str\n",
    "    'user_id': str\n",
    "    'rating': float\n",
    "    'date': str ('yyyy-mm-dd')\n",
    "    'text': str\n",
    "}\n",
    "\n",
    "# Example\n",
    "{\n",
    "    'review_id': '12345'\n",
    "    'user_id': '6789'\n",
    "    'rating': 4.7\n",
    "    'date': '2016-01-23'\n",
    "    'text': \"Wonderful!\"\n",
    "}\n",
    "```"
   ]
  },
  {
   "cell_type": "code",
   "execution_count": 15,
   "metadata": {},
   "outputs": [],
   "source": [
    "def parse_page(html):\n",
    "    \"\"\"\n",
    "    Parse the reviews on a single page of a restaurant.\n",
    "\n",
    "    Args:\n",
    "        html (string): String of HTML corresponding to a Yelp restaurant\n",
    "\n",
    "    Returns:\n",
    "        tuple(list, string): a tuple of two elements\n",
    "            first element: list of dictionaries corresponding to the extracted review information\n",
    "            second element: URL for the next page of reviews (or None if it is the last page)\n",
    "    \"\"\"\n",
    "    soup = BeautifulSoup(html, \"html.parser\")\n",
    "    review_list = []\n",
    "    for thisTag in soup.findAll(\"div\", \"review review--with-sidebar\"):\n",
    "        thisReviewInfo = {}\n",
    "        # review id\n",
    "        thisReviewInfo[\"review_id\"] = str(thisTag.get(\"data-review-id\"))\n",
    "        # user id\n",
    "        thisReviewInfo[\"user_id\"] = str(thisTag.get(\"data-signup-object\").replace(\"user_id:\",\"\"))\n",
    "        # rating\n",
    "        thisReviewInfo[\"rating\"] = round(float(thisTag.find(\"div\", {\"class\": (lambda x:x and x.startswith(\"i-stars i-stars--\"))}).get(\"title\").replace(\" star rating\",\"\")),1)\n",
    "        # date\n",
    "        if len(thisTag.find(\"div\", {\"class\": \"biz-rating biz-rating-large clearfix\"}).find(\"span\").text) > 0:\n",
    "            thisReviewInfo[\"date\"] = str(thisTag.find(\"div\", {\"class\": \"biz-rating biz-rating-large clearfix\"}).find(\"span\").text).strip('\\\\n').strip().strip('\\\\n')\n",
    "        else:\n",
    "            thisReviewInfo[\"date\"] = ''\n",
    "        # text\n",
    "        user_review = \"\"\n",
    "        for thisLine in thisTag.find(\"div\", {\"class\": \"review-content\"}).find(\"p\").text:\n",
    "            user_review += str(thisLine)\n",
    "        thisReviewInfo['text'] = user_review\n",
    "        \n",
    "        review_list.append(thisReviewInfo)\n",
    "        \n",
    "    next_obj = soup.find(\"a\", {\"class\":\"u-decoration-none next pagination-links_anchor\"})\n",
    "    next_url = next_obj.get(\"href\") if next_obj != None else None\n",
    "    return_tuple = (review_list, next_url)\n",
    "    return return_tuple\n",
    "    \n",
    "    pass\n"
   ]
  },
  {
   "cell_type": "markdown",
   "metadata": {},
   "source": [
    "## Extract all of the Yelp reviews for a Single Restaurant\n"
   ]
  },
  {
   "cell_type": "code",
   "execution_count": 17,
   "metadata": {},
   "outputs": [],
   "source": [
    "def extract_reviews(url):\n",
    "    \"\"\"\n",
    "    Retrieve ALL of the reviews for a single restaurant on Yelp.\n",
    "\n",
    "    Parameters:\n",
    "        url (string): Yelp URL corresponding to the restaurant of interest.\n",
    "\n",
    "    Returns:\n",
    "        reviews (list): list of dictionaries containing extracted review information\n",
    "    \"\"\"\n",
    "    final_list = []\n",
    "    \n",
    "    html_response = requests.get(url)\n",
    "    extracted_resp = parse_page(html_response.text)\n",
    "    for thisReview in extracted_resp[0]:\n",
    "        final_list.append(thisReview)\n",
    "        \n",
    "    if extracted_resp[1] != None:\n",
    "        time.sleep(.300)\n",
    "        final_list.extend(extract_reviews(extracted_resp[1]))\n",
    "    else:\n",
    "        return final_list\n",
    "    return final_list\n",
    "    pass\n"
   ]
  }
 ],
 "metadata": {
  "anaconda-cloud": {},
  "kernelspec": {
   "display_name": "Python 3",
   "language": "python",
   "name": "python3"
  },
  "language_info": {
   "codemirror_mode": {
    "name": "ipython",
    "version": 3
   },
   "file_extension": ".py",
   "mimetype": "text/x-python",
   "name": "python",
   "nbconvert_exporter": "python",
   "pygments_lexer": "ipython3",
   "version": "3.6.3"
  }
 },
 "nbformat": 4,
 "nbformat_minor": 1
}
