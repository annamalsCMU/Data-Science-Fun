{
 "cells": [
  {
   "cell_type": "markdown",
   "metadata": {},
   "source": [
    "## Pandas, SQLite, NumPy usage for Time Series Analysis"
   ]
  },
  {
   "cell_type": "code",
   "execution_count": 6,
   "metadata": {},
   "outputs": [],
   "source": [
    "import pandas as pd\n",
    "import sqlite3\n",
    "import numpy as np"
   ]
  },
  {
   "cell_type": "code",
   "execution_count": 7,
   "metadata": {
    "scrolled": false
   },
   "outputs": [],
   "source": [
    "def load_data(fname):\n",
    "    \"\"\" Read the given database into two pandas dataframes. \n",
    "    \n",
    "    Args: \n",
    "        fname (string): filename of sqlite3 database to read\n",
    "        \n",
    "    Returns:\n",
    "        (pd.DataFrame, pd.DataFrame): a tuple of two dataframes, the first for the vehicle data and the \n",
    "                                      second for the prediction data. \n",
    "    \"\"\"\n",
    "    conn = sqlite3.connect(fname)\n",
    "    \n",
    "    vehicles = pd.read_sql('SELECT * FROM vehicles', conn, parse_dates=['tmstmp'])\n",
    "    vehicles = vehicles[vehicles['vid'] != '']\n",
    "    predictions = pd.read_sql('SELECT * FROM predictions', conn, parse_dates=['tmstmp','prdtm'])\n",
    "    predictions = predictions[predictions['vid'] != '']\n",
    "    \n",
    "    vehicles[['vid','lat','lon','hdg','pid','pdist','spd','tatripid']] = vehicles[['vid','lat','lon','hdg','pid','pdist','spd','tatripid']].apply(pd.to_numeric)\n",
    "    predictions[['stpid','vid','dstp','tatripid']] = predictions[['stpid','vid','dstp','tatripid']].apply(pd.to_numeric)\n",
    "    predictions['dly'] = predictions['dly'].replace({'True': True, '': False})\n",
    "    \n",
    "    return(vehicles,predictions)\n"
   ]
  },
  {
   "cell_type": "code",
   "execution_count": 8,
   "metadata": {
    "scrolled": false
   },
   "outputs": [
    {
     "name": "stdout",
     "output_type": "stream",
     "text": [
      "vid                   int64\n",
      "tmstmp       datetime64[ns]\n",
      "lat                 float64\n",
      "lon                 float64\n",
      "hdg                   int64\n",
      "pid                   int64\n",
      "rt                   object\n",
      "des                  object\n",
      "pdist                 int64\n",
      "spd                   int64\n",
      "tablockid            object\n",
      "tatripid              int64\n",
      "dtype: object\n",
      "tmstmp       datetime64[ns]\n",
      "typ                  object\n",
      "stpnm                object\n",
      "stpid                 int64\n",
      "vid                   int64\n",
      "dstp                  int64\n",
      "rt                   object\n",
      "rtdd                 object\n",
      "rtdir                object\n",
      "des                  object\n",
      "prdtm        datetime64[ns]\n",
      "dly                    bool\n",
      "tablockid            object\n",
      "tatripid              int64\n",
      "dtype: object\n",
      "215473 143345\n",
      "    vid              tmstmp        lat        lon  hdg   pid   rt        des  \\\n",
      "0  5549 2016-08-11 10:56:00  40.439504 -79.996981  114  4521  61A  Swissvale   \n",
      "1  5287 2016-08-11 10:56:00  40.438016 -79.927380   83  4521  61A  Swissvale   \n",
      "2  6114 2016-08-11 10:56:00  40.418897 -79.883970  128  4521  61A  Swissvale   \n",
      "3  5646 2016-08-11 10:56:00  40.441155 -79.892990  274  4663  61A   Downtown   \n",
      "4  5443 2016-08-11 10:56:00  40.436370 -79.968362  269  4663  61A   Downtown   \n",
      "\n",
      "   pdist  spd tablockid  tatripid  \n",
      "0   1106    0  061A-164      6691  \n",
      "1  22921   20  061A-163      6687  \n",
      "2  48014   12  061A-162      6683  \n",
      "3  15953   23  061A-166      6433  \n",
      "4  40770   30  061A-165      6430  \n",
      "               tmstmp typ                         stpnm  stpid   vid   dstp  \\\n",
      "0 2016-08-11 10:56:00   A   Forbes Ave opp Morewood Ave   7117  3201    398   \n",
      "1 2016-08-11 10:56:00   A  Forbes Ave past Morewood Ave   4407  6121   8004   \n",
      "2 2016-08-11 10:56:00   A  Forbes Ave past Morewood Ave   4407  3244  13925   \n",
      "3 2016-08-11 10:56:00   A   Forbes Ave opp Morewood Ave   7117  3202  11981   \n",
      "4 2016-08-11 10:56:00   A   Forbes Ave opp Morewood Ave   7117  3249  14013   \n",
      "\n",
      "    rt rtdd     rtdir                des               prdtm    dly tablockid  \\\n",
      "0  61D  61D  OUTBOUND  Murray-Waterfront 2016-08-11 10:57:00  False  061D-276   \n",
      "1  61C  61C   INBOUND           Downtown 2016-08-11 11:05:00  False  061C-232   \n",
      "2  61B  61B   INBOUND           Downtown 2016-08-11 11:08:00  False  061B-196   \n",
      "3  61B  61B  OUTBOUND          Braddock  2016-08-11 11:09:00  False  061B-195   \n",
      "4  61C  61C  OUTBOUND        McKeesport  2016-08-11 11:10:00  False  061C-229   \n",
      "\n",
      "   tatripid  \n",
      "0      6688  \n",
      "1      7377  \n",
      "2      5744  \n",
      "3      6689  \n",
      "4      6690  \n"
     ]
    }
   ],
   "source": [
    "# AUTOLAB_IGNORE_START\n",
    "vdf, pdf = load_data('bus_aug23.db')\n",
    "\n",
    "\n",
    "# Inspect the datatypes of the dataframe\n",
    "print(vdf.dtypes)\n",
    "print(pdf.dtypes)\n",
    "\n",
    "print(len(vdf), len(pdf))\n",
    "\n",
    "# Inspect the first five entries of the dataframe\n",
    "print(vdf.head())\n",
    "print(pdf.head())\n",
    "\n",
    "# vdf = vdf.sort_values(['vid','pid','tmstmp', 'pdist'], ascending=[True, True, True, True])\n",
    "\n",
    "# vdf.to_csv(\"vdf.csv\", encoding='utf-8')\n",
    "\n",
    "# AUTOLAB_IGNORE_STOP"
   ]
  },
  {
   "cell_type": "markdown",
   "metadata": {},
   "source": [
    "## Splitting Trips\n",
    "\n",
    "### Specification\n",
    "1. All entries in a trip should belong to a single route, destination, pattern, and vehicle.\n",
    "\n",
    "2. The entries in a trip should have (not strictly) monotonically increasing timestamps and distance traveled. \n",
    "\n",
    "3. Each trip should be of maximal size. I.e. we should sort first by time, and secondarily by pdist, and use a drop in a pdist as an indication that a new trip has started. \n",
    "\n",
    "3. Each trip should have the timestamp set as the index, named `tmstmp`"
   ]
  },
  {
   "cell_type": "code",
   "execution_count": 9,
   "metadata": {
    "scrolled": true
   },
   "outputs": [],
   "source": [
    "def split_trips(df):\n",
    "    \"\"\" Splits the dataframe of vehicle data into a list of dataframes for each individual trip. \n",
    "    \n",
    "    Args: \n",
    "        df (pd.DataFrame): A dataframe containing vehicle data\n",
    "        \n",
    "    Returns: \n",
    "        (list): A list of dataframes, where each dataFrame contains vehicle data for a single trip\n",
    "    \"\"\"\n",
    "    def split(trip):\n",
    "        if not increasing(trip.tmstmp) or not increasing(trip.pdist):\n",
    "            trip = trip.sort_values(['tmstmp','pdist'], ascending=[True, True])\n",
    "        indices = [0]\n",
    "        i = 1\n",
    "        while i < len(trip):\n",
    "            if trip['pdist'].iloc[i] < trip['pdist'].iloc[i-1]:\n",
    "                indices.append(i)\n",
    "            i += 1\n",
    "        indices.append(i)\n",
    "        return [trip[a:b].set_index('tmstmp') for (a,b) in zip(indices[:-1], indices[1:])]\n",
    "    \n",
    "    def increasing(L):\n",
    "        return all(x<=y for x,y in zip(L[:-1],L[1:]))\n",
    "    \n",
    "    trips = []\n",
    "    for vid in df['vid'].unique():\n",
    "        df0 = df[df['vid']==vid]\n",
    "        for pid in df0['pid'].unique():\n",
    "            df1 = df0[df0['pid']==pid]\n",
    "            trips += split(df1)\n",
    "    return trips\n",
    "\n",
    "# print(split_trips(vdf[vdf[\"rt\"]==\"61A\"])[1])\n",
    "\n",
    "# AUTOLAB_IGNORE_START    \n",
    "all_trips = { rt : split_trips(vdf[vdf[\"rt\"]==rt]) for rt in [\"61A\", \"61B\", \"61C\", \"61D\"] }\n",
    "# AUTOLAB_IGNORE_STOP"
   ]
  },
  {
   "cell_type": "code",
   "execution_count": 10,
   "metadata": {},
   "outputs": [
    {
     "name": "stdout",
     "output_type": "stream",
     "text": [
      "[<built-in method index of list object at 0x128bd0648>, <built-in method index of list object at 0x128a26548>, <built-in method index of list object at 0x128af8a08>, <built-in method index of list object at 0x128b35cc8>]\n"
     ]
    }
   ],
   "source": [
    "# Test the validity of our code here\n",
    "print([items.index for key, items in all_trips.items()])\n"
   ]
  },
  {
   "cell_type": "markdown",
   "metadata": {},
   "source": [
    "## Sliding Averages\n",
    "\n",
    "### Specifications\n",
    "1. Our function should not use more than O(k) memory, where k is the number of elements to average. \n",
    "2. Each update should do O(1) work. \n",
    "3. We will use a centered sliding average: we will average the k values both before and after the center point, averaging a total of 2k+1 elements. Note that k=0 will just return the stream without any averaging. \n",
    "4. Since the average depends on both past and future elements, the `update` function will not be able to output anything useful for the first k elements. We should output `None` during these iterations.  \n",
    "4. When at the beginning or end of a list, just compute the average of elements that exist. \n",
    "5. As usual, we should test the correctness of our code. We can do this in the same cell or make a new cell.\n"
   ]
  },
  {
   "cell_type": "code",
   "execution_count": 10,
   "metadata": {
    "scrolled": false
   },
   "outputs": [],
   "source": [
    "from collections import deque\n",
    "\n",
    "class SlidingAverage:\n",
    "    def __init__(self,k):\n",
    "        \"\"\" Initializes a sliding average calculator which keeps track of the average of the last k seen elements. \n",
    "        \n",
    "        Args: \n",
    "            k (int): the number of elements to average (the half-width of the sliding average window)\n",
    "        \"\"\"\n",
    "        self.sum = 0\n",
    "        self.denom = 0\n",
    "        self.deque = deque()\n",
    "        self.mean = None\n",
    "        self.k = k\n",
    "        \n",
    "    def update(self,x):\n",
    "        \"\"\" Computes the sliding average after having seen element x \n",
    "        \n",
    "        Args:\n",
    "            x (float): the next element in the stream to view\n",
    "            \n",
    "        Returns: \n",
    "            (float): the new sliding average after having seen element x, if it can be calculated\n",
    "        \"\"\"\n",
    "        \n",
    "        self.deque.append(x)\n",
    "        \n",
    "        if x != None:\n",
    "            self.sum = self.sum + x\n",
    "            if self.denom < (2*self.k)+1:\n",
    "                self.denom += 1\n",
    "        \n",
    "        if len(self.deque) == (2*self.k)+1:\n",
    "            \n",
    "            self.mean = self.sum/self.denom\n",
    "\n",
    "            popleft = self.deque.popleft()\n",
    "            if popleft != None:\n",
    "                self.sum -= popleft\n",
    "                self.denom -= 1\n",
    "        \n",
    "        return (self.mean*1.0 if self.mean != None else None)\n",
    "        \n",
    "    \n",
    "\n",
    "def compute_sliding_averages(s, k):\n",
    "    \"\"\" Computes the sliding averages for a given Pandas series using the SlidingAverage class. \n",
    "    \n",
    "    Args:\n",
    "        s (pd.Series): a Pandas series for which the sliding average needs to be calculated\n",
    "        k (int): the half-width of the sliding average window \n",
    "        \n",
    "    Returns:\n",
    "        (pd.Series): a Pandas series of the sliding averages\n",
    "    \n",
    "    \"\"\"\n",
    "    b = []\n",
    "    sa = SlidingAverage(k)\n",
    "    \n",
    "    for i in range(k):\n",
    "        thisSA = sa.update(None)\n",
    "    \n",
    "    for num in s:\n",
    "        thisSA = sa.update(num)\n",
    "        if thisSA != None:\n",
    "            b.append(thisSA)\n",
    "    \n",
    "    while(k > 0):\n",
    "        thisSA = sa.update(None)\n",
    "        k-=1\n",
    "        if thisSA != None:\n",
    "            b.append(thisSA)\n",
    "\n",
    "    \n",
    "    return pd.Series(b)\n",
    "    \n"
   ]
  },
  {
   "cell_type": "markdown",
   "metadata": {},
   "source": [
    "## Time Series Visualizations\n",
    "\n",
    "Time series data is typically displayed as signals over time. For example, this could be the speed of the bus over time, or the number of minutes behind or ahead of schedule a bus is. "
   ]
  },
  {
   "cell_type": "code",
   "execution_count": 11,
   "metadata": {},
   "outputs": [],
   "source": [
    "import matplotlib\n",
    "# Use svg backend for better quality\n",
    "# AUTOLAB_IGNORE_START\n",
    "matplotlib.use(\"svg\")\n",
    "# AUTOLAB_IGNORE_STOP\n",
    "import matplotlib.pyplot as plt\n",
    "# AUTOLAB_IGNORE_START\n",
    "%matplotlib inline\n",
    "plt.style.use('ggplot')\n",
    "matplotlib.rcParams['figure.figsize'] = (10.0, 5.0)\n",
    "# AUTOLAB_IGNORE_STOP"
   ]
  },
  {
   "cell_type": "markdown",
   "metadata": {},
   "source": [
    "As the first example, we'll plot the speed of the bus as a function of time. Here, we'll overlay multiple routes on a single plot. Can you determine the direction of the bus (to or away from downtown) from the signal? "
   ]
  },
  {
   "cell_type": "code",
   "execution_count": 12,
   "metadata": {
    "scrolled": true
   },
   "outputs": [
    {
     "data": {
      "image/png": "[encoded data removed]",
      "text/plain": [
       "<matplotlib.figure.Figure at 0x11ee58710>"
      ]
     },
     "metadata": {},
     "output_type": "display_data"
    }
   ],
   "source": [
    "def plot_trip(trips, k):\n",
    "    \"\"\" Plots the sliding average speed as a function of time \n",
    "    \n",
    "    Args: \n",
    "        trip (list): list of trip DataFrames to plot\n",
    "        k (int): the half-width of the sliding average window\n",
    "    \"\"\"\n",
    "    plot_list = []\n",
    "    for thisTrip in trips:\n",
    "        thisTripSA = compute_sliding_averages(thisTrip['spd'],k)\n",
    "        plot_list.extend(plt.plot(thisTrip.index.time, thisTripSA))\n",
    "    return plot_list\n",
    "\n",
    "\n",
    "\n",
    "\n",
    "lines = plot_trip(all_trips['61A'][:20], 15)\n",
    "plt.show()\n"
   ]
  },
  {
   "cell_type": "markdown",
   "metadata": {
    "scrolled": true
   },
   "source": [
    "We can also gain information from overall trends from averaging many data points. In the following function, we will plot the average speed of all buses at regular time intervals throughout the day. \n"
   ]
  },
  {
   "cell_type": "code",
   "execution_count": 33,
   "metadata": {
    "scrolled": true
   },
   "outputs": [
    {
     "data": {
      "image/png": "[encoded data removed]",
      "text/plain": [
       "<matplotlib.figure.Figure at 0x1141c1908>"
      ]
     },
     "metadata": {},
     "output_type": "display_data"
    }
   ],
   "source": [
    "import datetime\n",
    "\n",
    "def plot_avg_spd(df, t):\n",
    "    \"\"\" Plot the average speed of all recorded buses within t minute intervals \n",
    "    Args: \n",
    "        df (pd.DataFrame): dataframe of bus data\n",
    "        t (int): the granularity of each time period (in minutes) for which an average is speed is calculated\n",
    "    \"\"\"\n",
    "    \n",
    "    df['tmstmp'] = df[\"tmstmp\"].apply(lambda this: this - datetime.timedelta(minutes=this.minute % t))\n",
    "    df.loc[:,'time_bucket'] = pd.Series(np.random.randn(len(df['tmstmp'])), index=df.index)\n",
    "\n",
    "    df['time_bucket'] = df[\"tmstmp\"].apply(lambda this: this.time().strftime('%H:%M'))\n",
    "    df['time_bucket'] = pd.to_datetime(df['time_bucket'], format='%H:%M').dt.time\n",
    "    \n",
    "    df1 = pd.DataFrame()\n",
    "    df1['mean_'] = df.groupby(['time_bucket'])['spd'].mean()\n",
    "    \n",
    "    plot = plt.scatter(x= df1.index, y = df1.mean_)\n",
    "    return plot\n",
    "    \n",
    "\n",
    "s = plot_avg_spd(vdf, 10)\n",
    "plt.show()\n"
   ]
  }
 ],
 "metadata": {
  "anaconda-cloud": {},
  "kernelspec": {
   "display_name": "Python 3",
   "language": "python",
   "name": "python3"
  },
  "language_info": {
   "codemirror_mode": {
    "name": "ipython",
    "version": 3
   },
   "file_extension": ".py",
   "mimetype": "text/x-python",
   "name": "python",
   "nbconvert_exporter": "python",
   "pygments_lexer": "ipython3",
   "version": "3.6.3"
  }
 },
 "nbformat": 4,
 "nbformat_minor": 1
}
