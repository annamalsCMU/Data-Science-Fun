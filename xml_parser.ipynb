{
 "cells": [
  {
   "cell_type": "markdown",
   "metadata": {},
   "source": [
    "## Creating helpful regular expressions"
   ]
  },
  {
   "cell_type": "code",
   "execution_count": 1,
   "metadata": {},
   "outputs": [],
   "source": [
    "#### Q1: FILL IN THIS CELL\n",
    "import re\n",
    "tag_open = re.compile(r\"<(\\w+)\\s*(.*?)>\")\n",
    "tag_close = re.compile(r\"</(\\w+)(.*?)>\")\n",
    "tag_open_close = re.compile(r\"<(\\w+)\\s*((?:(?!<).)*?)\\/>\")\n",
    "\n",
    "comment = re.compile(r\"<!--(.*?)-->\", re.DOTALL)\n",
    "xml_prolog = re.compile(r\"<\\?(.*)\\?>\")\n",
    "html_prolog = re.compile(r\"<!(DOCTYPE .*?)>\")\n"
   ]
  },
  {
   "cell_type": "markdown",
   "metadata": {},
   "source": [
    "## Test data"
   ]
  },
  {
   "cell_type": "code",
   "execution_count": 4,
   "metadata": {},
   "outputs": [],
   "source": [
    "import requests\n",
    "test_snippet = \"\"\"<?xml version=\"1.0\" encoding=\"UTF-8\"?>\n",
    "<!DOCTYPE xml> <!-- not actually valid xml-->\n",
    "<!-- This is a comment -->\n",
    "<note date=\"8/31/12\">\n",
    "    <to>Tove</to>\n",
    "    <from>Jani</from>\n",
    "    <heading type=\"Reminder\"/>\n",
    "    <body>Don't forget me this weekend!</body>\n",
    "    <!-- This is a multiline comment,\n",
    "         which take a bit of care to parse -->\n",
    "</note>\n",
    "\"\"\"\n",
    "\n",
    "# [NOTE] Comment this out prior to submission\n",
    "course_webpage = str(requests.get(\"http://www.datasciencecourse.org/2016\").content)\n"
   ]
  },
  {
   "cell_type": "code",
   "execution_count": 5,
   "metadata": {},
   "outputs": [
    {
     "name": "stdout",
     "output_type": "stream",
     "text": [
      "tag_open:  [('note', 'date=\"8/31/12\"'), ('to', ''), ('from', ''), ('heading', 'type=\"Reminder\"/'), ('body', '')]\n",
      "tag_close:  [('to', ''), ('from', ''), ('body', ''), ('note', '')]\n",
      "tag_open_close:  [('heading', 'type=\"Reminder\"')]\n",
      "comment:  [' not actually valid xml', ' This is a comment ', ' This is a multiline comment,\\n         which take a bit of care to parse ']\n",
      "xml_prolog:  ['xml version=\"1.0\" encoding=\"UTF-8\"']\n",
      "html_prolog:  ['DOCTYPE xml']\n"
     ]
    }
   ],
   "source": [
    "print(\"tag_open: \", tag_open.findall(test_snippet))\n",
    "print(\"tag_close: \", tag_close.findall(test_snippet))\n",
    "print(\"tag_open_close: \", tag_open_close.findall(test_snippet))\n",
    "print(\"comment: \", comment.findall(test_snippet))\n",
    "print(\"xml_prolog: \", xml_prolog.findall(test_snippet))\n",
    "print(\"html_prolog: \", html_prolog.findall(test_snippet))"
   ]
  },
  {
   "cell_type": "code",
   "execution_count": 6,
   "metadata": {
    "scrolled": true
   },
   "outputs": [
    {
     "name": "stdout",
     "output_type": "stream",
     "text": [
      "tag_open:  469\n",
      "tag_close:  439\n",
      "tag_open_close:  30\n",
      "comment:  23\n",
      "xml_prolog:  0\n",
      "html_declaration:  1\n"
     ]
    }
   ],
   "source": [
    "# [NOTE] Comment this out prior to submission\n",
    "print(\"tag_open: \", len(tag_open.findall(course_webpage)))\n",
    "print(\"tag_close: \", len(tag_close.findall(course_webpage)))\n",
    "print(\"tag_open_close: \", len(tag_open_close.findall(course_webpage)))\n",
    "print(\"comment: \", len(comment.findall(course_webpage)))\n",
    "print(\"xml_prolog: \", len(xml_prolog.findall(course_webpage)))\n",
    "print(\"html_declaration: \", len(html_prolog.findall(course_webpage)))\n",
    "\n",
    "# print(tag_open_close.findall(course_webpage))"
   ]
  },
  {
   "cell_type": "markdown",
   "metadata": {},
   "source": [
    "## XML Parser class"
   ]
  },
  {
   "cell_type": "code",
   "execution_count": 7,
   "metadata": {},
   "outputs": [],
   "source": [
    "class XMLNode:\n",
    "    \n",
    "    def __init__(self, tag, attributes, content):\n",
    "        self.tag = tag\n",
    "        self.attributes = attributes\n",
    "        self.children =  []\n",
    "        self.content = content\n",
    "        pos = 0\n",
    "        self.endpos = 0\n",
    "        angle_pattern = re.compile(\"<\")\n",
    "        angle_Match = re.search(\"<\",content)\n",
    "        if angle_Match is None:\n",
    "            return\n",
    "        else:\n",
    "            while(pos < len(content)-1):\n",
    "                if angle_pattern.search(content,pos) != None:\n",
    "                    pos = angle_pattern.search(content,pos).span()[0]\n",
    "                else:\n",
    "                    pos += 1\n",
    "                if comment.match(content, pos) != None:\n",
    "                    m = comment.match(content,pos)\n",
    "                    pos = m.end()\n",
    "                    continue\n",
    "                if xml_prolog.match(content, pos) != None:\n",
    "                    m = xml_prolog.match(content,pos)\n",
    "                    pos = m.end()\n",
    "                    continue\n",
    "                if html_prolog.match(content, pos) != None:\n",
    "                    m = html_prolog.match(content,pos)\n",
    "                    pos = m.end()\n",
    "                    continue\n",
    "                if tag_open.match(content, pos) != None:\n",
    "                    isopen_close_tag = False\n",
    "                    if tag_open_close.match(content, pos) != None:\n",
    "                        m = tag_open_close.match(content,pos)\n",
    "                        isopen_close_tag = True\n",
    "                    else:\n",
    "                        m = tag_open.match(content, pos)\n",
    "                    \n",
    "                    attributes = {}\n",
    "                    if m.group(2) != None and m.group(2) != \"\":\n",
    "                        thisAttrs = m.group(2).replace(\"\\\\'\",'\"').split('\" ')\n",
    "                        for attr in thisAttrs:\n",
    "                            thisOccr = attr.split('=\"')\n",
    "                            if len(thisOccr) > 1:\n",
    "                                attributes[thisOccr[0]] = thisOccr[1].replace('\"',\"\")\n",
    "                    if isopen_close_tag:\n",
    "                        self.children.append(XMLNode(m.group(1), attributes, \"\"))\n",
    "                    else:\n",
    "                        self.children.append(XMLNode(m.group(1), attributes, content[m.end():]))\n",
    "                    pos = m.end() + self.children[-1].endpos\n",
    "                    continue\n",
    "                if tag_close.match(content, pos) != None:\n",
    "                    m = tag_close.match(content, pos)\n",
    "                    if m.group(1) != tag:\n",
    "                        raise Exception(\"Error: <{0}> tag closed with {1}\".format(tag, m.group()))\n",
    "                    else:\n",
    "                        self.content = content[:m.start()]\n",
    "                        self.endpos = m.end()\n",
    "                        return\n",
    "    def find(self, tag, **kwargs):\n",
    "        \"\"\"\n",
    "        Search for a given tag and atributes anywhere in the XML tree\n",
    "\n",
    "        Args:\n",
    "            tag (string): tag to match\n",
    "            kwargs (dictionary): list of attribute name / attribute value pairs to match\n",
    "\n",
    "        Returns:\n",
    "            (list): a list of XMLNode objects that match from anywhere in the tree\n",
    "        \"\"\"\n",
    "        return_list = []\n",
    "        if self.tag == tag:\n",
    "            if len(kwargs.items()) > 0:\n",
    "                for k, v in kwargs.items():\n",
    "                    if k in self.attributes:\n",
    "                        if v in self.attributes[k]:\n",
    "                            return_list = [self]\n",
    "                            break\n",
    "            else:\n",
    "                return_list = [self]\n",
    "        if len(self.children) > 0:\n",
    "            for child in self.children:\n",
    "                return_list.extend(child.find(tag, **kwargs))\n",
    "        return return_list\n"
   ]
  },
  {
   "cell_type": "code",
   "execution_count": 8,
   "metadata": {},
   "outputs": [
    {
     "name": "stdout",
     "output_type": "stream",
     "text": [
      "root.tag:  \n",
      "root.attributes:  {}\n",
      "root.content:  '<?xml version=\"1.0\" encoding=\"UTF-8\"?>\\n<!DOCTYPE xml> <!-- not actually valid xml-->\\n<!-- This is a comment -->\\n<note date=\"8/31/12\">\\n    <to>Tove</to>\\n    <from>Jani</from>\\n    <heading type=\"Reminder\"/>\\n    <body>Don\\'t forget me this weekend!</body>\\n    <!-- This is a multiline comment,\\n         which take a bit of care to parse -->\\n</note>\\n'\n",
      "root.children:  [<__main__.XMLNode object at 0x106ae56a0>]\n",
      "\n",
      "note.tag:  note\n",
      "note.attributes:  {'date': '8/31/12'}\n",
      "note.content:  '\\n    <to>Tove</to>\\n    <from>Jani</from>\\n    <heading type=\"Reminder\"/>\\n    <body>Don\\'t forget me this weekend!</body>\\n    <!-- This is a multiline comment,\\n         which take a bit of care to parse -->\\n'\n",
      "note.children:  [<__main__.XMLNode object at 0x106ae5710>, <__main__.XMLNode object at 0x106ae57b8>, <__main__.XMLNode object at 0x106ae5898>, <__main__.XMLNode object at 0x106ae5908>]\n",
      "\n",
      "to.tag:  to\n",
      "to.attributes:  {}\n",
      "to.content:  'Tove'\n",
      "to.children:  []\n",
      "\n",
      "heading.tag:  heading\n",
      "heading.attributes:  {'type': 'Reminder'}\n",
      "heading.content:  ''\n",
      "heading.children:  []\n"
     ]
    }
   ],
   "source": [
    "root = XMLNode(\"\", {}, test_snippet)\n",
    "\n",
    "print(\"root.tag: \", root.tag)\n",
    "print(\"root.attributes: \", root.attributes)\n",
    "print(\"root.content: \", repr(root.content))\n",
    "print(\"root.children: \", root.children)\n",
    "print(\"\")\n",
    "print(\"note.tag: \", root.children[0].tag)\n",
    "print(\"note.attributes: \", root.children[0].attributes)\n",
    "print(\"note.content: \", repr(root.children[0].content))\n",
    "print(\"note.children: \", root.children[0].children)\n",
    "print(\"\")\n",
    "print(\"to.tag: \", root.children[0].children[0].tag)\n",
    "print(\"to.attributes: \", root.children[0].children[0].attributes)\n",
    "print(\"to.content: \", repr(root.children[0].children[0].content))\n",
    "print(\"to.children: \", root.children[0].children[0].children)\n",
    "print(\"\")\n",
    "print(\"heading.tag: \", root.children[0].children[2].tag)\n",
    "print(\"heading.attributes: \", root.children[0].children[2].attributes)\n",
    "print(\"heading.content: \", repr(root.children[0].children[2].content))\n",
    "print(\"heading.children: \", root.children[0].children[2].children)"
   ]
  },
  {
   "cell_type": "code",
   "execution_count": 11,
   "metadata": {},
   "outputs": [
    {
     "name": "stdout",
     "output_type": "stream",
     "text": [
      "467\n"
     ]
    }
   ],
   "source": [
    "def total_count(n):\n",
    "    \"\"\" Gets the total number of nodes in an XMLNode tree. \"\"\"\n",
    "    return len(n.children) + sum(total_count(c) for c in n.children)\n",
    "\n",
    "root = XMLNode(\"\", {}, course_webpage)\n",
    "print(total_count(root))\n"
   ]
  },
  {
   "cell_type": "markdown",
   "metadata": {},
   "source": [
    "## Searching for tags\n",
    "\n",
    "One of the nicer elements of the `BeautifulSoup` library is the ability to quickly search for tags that have certain attributes, without worrying about the specific structure of the model (i.e., how many levels deep the tag is, how many may exist in the document etc).  We're going to implement a similar function in our `XMLNode` class, specifically a function of the following form."
   ]
  },
  {
   "cell_type": "code",
   "execution_count": 127,
   "metadata": {},
   "outputs": [],
   "source": [
    "# [NOTE] Comment this out prior to submission\n",
    "# \n",
    "# Get a list of all links on the page\n",
    "links = root.find(\"a\")\n",
    "print([l.attributes[\"href\"] for l in links])\n",
    "# # \n",
    "# # Get a list of all lecture dates for the course\n",
    "print(root.find(\"section\", id=\"schedule\"))\n",
    "tbody = root.find(\"section\", id=\"schedule\")[0].find(\"table\")[0].find(\"tbody\")[0]\n",
    "print([a.find(\"td\")[0].content for a in tbody.find(\"tr\") if len(a.find(\"td\")) > 1])"
   ]
  },
  {
   "cell_type": "code",
   "execution_count": 11,
   "metadata": {},
   "outputs": [],
   "source": []
  }
 ],
 "metadata": {
  "anaconda-cloud": {},
  "kernelspec": {
   "display_name": "Python 3",
   "language": "python",
   "name": "python3"
  },
  "language_info": {
   "codemirror_mode": {
    "name": "ipython",
    "version": 3
   },
   "file_extension": ".py",
   "mimetype": "text/x-python",
   "name": "python",
   "nbconvert_exporter": "python",
   "pygments_lexer": "ipython3",
   "version": "3.6.3"
  }
 },
 "nbformat": 4,
 "nbformat_minor": 1
}
